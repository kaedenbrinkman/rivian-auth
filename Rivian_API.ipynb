{
  "nbformat": 4,
  "nbformat_minor": 0,
  "metadata": {
    "colab": {
      "name": "Rivian_API.ipynb",
      "provenance": []
    },
    "kernelspec": {
      "name": "python3",
      "display_name": "Python 3"
    },
    "language_info": {
      "name": "python"
    }
  },
  "cells": [
    {
      "cell_type": "code",
      "execution_count": 2,
      "metadata": {
        "colab": {
          "base_uri": "https://localhost:8080/",
          "height": 536
        },
        "id": "Fm5I2x4wvpCm",
        "outputId": "271703d3-3dc1-4608-98c7-85df5a82be75"
      },
      "outputs": [],
      "source": [
        "import requests\n",
        "\n",
        "email = input(\"Enter your account email: \")\n",
        "password = input(\"Enter your password: \")\n",
        "\n",
        "url = \"https://auth.rivianservices.com/auth/api/v1/token/auth\"\n",
        "payload = {\n",
        "  \"username\": email,\n",
        "  \"pwd\": password,\n",
        "  \"source\": \"mobile\",\n",
        "  \"grant_type\": \"password\",\n",
        "  \"client_id\": \"rivian.mobile.sc12bjxe8lmhkul\",\n",
        "  \"client_secret\": \"rlL058p5kipkZr0C85KrdA4AZ0QBNVh75zXWwEWf\"\n",
        "}\n",
        "# send request\n",
        "r = requests.post(url, data=payload)\n",
        "# parse json and print access_token\n",
        "data = r.json()\n",
        "# if error, print error message\n",
        "if 'error' in data:\n",
        "  print(data['error'])\n",
        "  exit()\n",
        "# print access_token\n",
        "print(data['access_token'])"
      ]
    }
  ]
}
